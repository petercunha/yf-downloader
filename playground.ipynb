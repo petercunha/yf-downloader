{
 "cells": [
  {
   "cell_type": "code",
   "execution_count": 20,
   "metadata": {},
   "outputs": [],
   "source": [
    "import yfinance as yf\n",
    "import pandas as pd\n",
    "import sys\n",
    "\n",
    "# Fetch the ticker symbol from command line arguments\n",
    "ticker = 'MSFT'\n",
    "\n",
    "# Download the company's data using yfinance\n",
    "company = yf.Ticker(ticker)"
   ]
  },
  {
   "cell_type": "code",
   "execution_count": 29,
   "metadata": {},
   "outputs": [],
   "source": [
    "# Fetch the financial statements and information\n",
    "info = pd.DataFrame(company.info.items())\n",
    "income_statement = company.financials.T  # Transposed for better readability\n",
    "balance_sheet = company.balance_sheet.T  # Transposed for better readability\n",
    "cash_flow = company.cashflow.T  # Transposed for better readability\n",
    "\n",
    "# Create a Pandas Excel writer using openpyxl as the engine\n",
    "with pd.ExcelWriter(f'{ticker}_financials.xlsx', engine='openpyxl') as writer:\n",
    "    # Write each DataFrame to a specific sheet\n",
    "    info.to_excel(writer, sheet_name='General Information', index=False, header=False)\n",
    "    income_statement.to_excel(writer, sheet_name='Income Statement')\n",
    "    balance_sheet.to_excel(writer, sheet_name='Balance Sheet')\n",
    "    cash_flow.to_excel(writer, sheet_name='Cash Flow Statement')"
   ]
  },
  {
   "cell_type": "code",
   "execution_count": 22,
   "metadata": {},
   "outputs": [
    {
     "name": "stdout",
     "output_type": "stream",
     "text": [
      "Key Information Summary:\n",
      "address1: city\n",
      "One Microsoft Way: Redmond\n",
      "\n",
      "Financial statements and company info have been exported to MSFT_financials.xlsx.\n"
     ]
    }
   ],
   "source": [
    "# Print summary of key statistics available in the \"info\" DataFrame to stdout\n",
    "print(\"Key Information Summary:\")\n",
    "for index, row in info.iterrows():\n",
    "    print(f\"{row[0]}: {row[1]}\")\n",
    "\n",
    "print(f\"\\nFinancial statements and company info have been exported to {ticker}_financials.xlsx.\")"
   ]
  }
 ],
 "metadata": {
  "kernelspec": {
   "display_name": "Python 3 (ipykernel)",
   "language": "python",
   "name": "python3"
  },
  "language_info": {
   "codemirror_mode": {
    "name": "ipython",
    "version": 3
   },
   "file_extension": ".py",
   "mimetype": "text/x-python",
   "name": "python",
   "nbconvert_exporter": "python",
   "pygments_lexer": "ipython3",
   "version": "3.11.9"
  }
 },
 "nbformat": 4,
 "nbformat_minor": 2
}
